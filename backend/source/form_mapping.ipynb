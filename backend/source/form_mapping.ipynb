{
 "cells": [
  {
   "cell_type": "code",
   "execution_count": 25,
   "metadata": {
    "ExecuteTime": {
     "end_time": "2022-05-30T13:42:59.950929Z",
     "start_time": "2022-05-30T13:42:59.946555Z"
    }
   },
   "outputs": [],
   "source": [
    "import pandas as pd\n",
    "import json\n",
    "import os\n",
    "import requests as r"
   ]
  },
  {
   "cell_type": "code",
   "execution_count": 26,
   "metadata": {
    "ExecuteTime": {
     "end_time": "2022-05-30T13:43:00.139852Z",
     "start_time": "2022-05-30T13:43:00.133607Z"
    }
   },
   "outputs": [],
   "source": [
    "webform_url = \"https://webform.akvo.org/api\"\n",
    "forms = [{\"raw_id\":611800981, \"prod_id\":628680982, \"instance\": \"seap\"}]"
   ]
  },
  {
   "cell_type": "code",
   "execution_count": 27,
   "metadata": {
    "ExecuteTime": {
     "end_time": "2022-05-30T13:43:00.325656Z",
     "start_time": "2022-05-30T13:43:00.319010Z"
    }
   },
   "outputs": [],
   "source": [
    "def get_frame(file_id, rename):\n",
    "    file_json = open(f\"./mapping/editor_{file_id}.json\", \"r\")\n",
    "    res = json.load(file_json)\n",
    "    file_json.close()\n",
    "    res = pd.DataFrame(res[\"questions\"], columns=[\"keyId\",\"variableName\",\"text\", \"path\"])\n",
    "    res[\"path\"] = res[\"path\"].apply(lambda x: x.split(\"/\")[-1])\n",
    "    missing_vars = res[res['variableName'] != res['variableName']].to_dict(\"records\")\n",
    "    for missing_var in missing_vars:\n",
    "        text = missing_var[\"text\"]\n",
    "        print(f\"- Missing Variables on {rename}: {file_id} {text}\")\n",
    "    rename = {\"keyId\": f\"{rename}_id\", \"text\": f\"{rename}_text\", \"path\": f\"{rename}_group\"}\n",
    "    rename.update({\"variableName\": \"variable_name\"})\n",
    "    res = res.rename(columns=rename)\n",
    "    return res"
   ]
  },
  {
   "cell_type": "code",
   "execution_count": 28,
   "metadata": {
    "ExecuteTime": {
     "end_time": "2022-05-30T13:43:01.791760Z",
     "start_time": "2022-05-30T13:43:00.675143Z"
    }
   },
   "outputs": [
    {
     "data": {
      "text/html": [
       "<hr>"
      ],
      "text/plain": [
       "<IPython.core.display.HTML object>"
      ]
     },
     "metadata": {},
     "output_type": "display_data"
    },
    {
     "name": "stdout",
     "output_type": "stream",
     "text": [
      "Instance Name: seap\n",
      "Raw ID       : 611800981\n",
      "Production ID: 628680982\n",
      "- Missing Variables on raw: 611800981 Who is the candidate?\n",
      "- Missing Variables on prod: 628680982 Who is the candidate?\n"
     ]
    }
   ],
   "source": [
    "form_maps = []\n",
    "for form in forms:\n",
    "    display(HTML(\"<hr>\"))\n",
    "    instance = form[\"instance\"]\n",
    "    prod_id = form[\"prod_id\"]\n",
    "    raw_id = form[\"raw_id\"]\n",
    "    print(f\"Instance Name: {instance}\")\n",
    "    print(f\"Raw ID       : {raw_id}\")\n",
    "    print(f\"Production ID: {prod_id}\")\n",
    "    raw = get_frame(raw_id, \"raw\" )\n",
    "    prod = get_frame(prod_id, \"prod\")\n",
    "    merged = raw.merge(prod, on='variable_name')\n",
    "    webform = r.get(f\"{webform_url}/generate/{instance}/{prod_id}\")\n",
    "    webform = r.get(f\"{webform_url}/form/{webform.text}\")\n",
    "    webform = webform.json()\n",
    "    questions = merged.dropna().reset_index()\n",
    "    questions = questions[[\"variable_name\",\"raw_id\",\"prod_id\"]]\n",
    "    questions = questions.rename(columns={\"raw_id\":\"id\"})\n",
    "    questions = questions[[\"id\",\"prod_id\"]]\n",
    "    questions = questions.to_dict(\"records\")\n",
    "    form_maps.append({\n",
    "        \"id\": raw_id,\n",
    "        \"instance\": instance,\n",
    "        \"prod_id\": prod_id,\n",
    "        \"name\": webform[\"name\"],\n",
    "        \"questions\": questions\n",
    "    })"
   ]
  },
  {
   "cell_type": "code",
   "execution_count": 29,
   "metadata": {
    "ExecuteTime": {
     "end_time": "2022-05-30T13:43:03.656225Z",
     "start_time": "2022-05-30T13:43:03.645901Z"
    }
   },
   "outputs": [],
   "source": [
    "json_object = json.dumps(form_maps, indent = 4)\n",
    "with open(\"./forms.json\", \"w\") as outfile:\n",
    "    outfile.write(json_object)"
   ]
  },
  {
   "cell_type": "code",
   "execution_count": null,
   "metadata": {},
   "outputs": [],
   "source": []
  }
 ],
 "metadata": {
  "kernelspec": {
   "display_name": "Python 3",
   "language": "python",
   "name": "python3"
  },
  "language_info": {
   "codemirror_mode": {
    "name": "ipython",
    "version": 3
   },
   "file_extension": ".py",
   "mimetype": "text/x-python",
   "name": "python",
   "nbconvert_exporter": "python",
   "pygments_lexer": "ipython3",
   "version": "3.8.5"
  },
  "toc": {
   "base_numbering": 1,
   "nav_menu": {},
   "number_sections": true,
   "sideBar": true,
   "skip_h1_title": false,
   "title_cell": "Table of Contents",
   "title_sidebar": "Contents",
   "toc_cell": false,
   "toc_position": {},
   "toc_section_display": true,
   "toc_window_display": false
  }
 },
 "nbformat": 4,
 "nbformat_minor": 4
}
