{
 "cells": [
  {
   "cell_type": "code",
   "execution_count": 1,
   "metadata": {
    "ExecuteTime": {
     "end_time": "2022-05-26T16:01:18.549460Z",
     "start_time": "2022-05-26T16:01:18.316702Z"
    }
   },
   "outputs": [],
   "source": [
    "from IPython.display import display, HTML\n",
    "import pandas as pd\n",
    "import json\n",
    "import os"
   ]
  },
  {
   "cell_type": "code",
   "execution_count": 2,
   "metadata": {
    "ExecuteTime": {
     "end_time": "2022-05-26T16:01:18.556868Z",
     "start_time": "2022-05-26T16:01:18.551435Z"
    }
   },
   "outputs": [],
   "source": [
    "forms = [{\"raw_id\":611800981, \"prod_id\":628680982}]"
   ]
  },
  {
   "cell_type": "code",
   "execution_count": 3,
   "metadata": {
    "ExecuteTime": {
     "end_time": "2022-05-26T16:01:18.567761Z",
     "start_time": "2022-05-26T16:01:18.561331Z"
    }
   },
   "outputs": [],
   "source": [
    "def get_frame(file_id, rename):\n",
    "    file_json = open(f\"./mapping/editor_{file_id}.json\", \"r\")\n",
    "    res = json.load(file_json)\n",
    "    file_json.close()\n",
    "    res = pd.DataFrame(res[\"questions\"], columns=[\"keyId\",\"variableName\",\"text\", \"path\"])\n",
    "    res[\"path\"] = res[\"path\"].apply(lambda x: x.split(\"/\")[-1])\n",
    "    missing_vars = res[res['variableName'] != res['variableName']].to_dict(\"records\")\n",
    "    for missing_var in missing_vars:\n",
    "        text = missing_var[\"text\"]\n",
    "        print(f\"   - Missing Variables: {file_id} {text}\")\n",
    "    rename = {\"keyId\": f\"{rename}_id\", \"text\": f\"{rename}_text\", \"path\": f\"{rename}_group\"}\n",
    "    rename.update({\"variableName\": \"variable_name\"})\n",
    "    res = res.rename(columns=rename)\n",
    "    return res"
   ]
  },
  {
   "cell_type": "code",
   "execution_count": 4,
   "metadata": {
    "ExecuteTime": {
     "end_time": "2022-05-26T16:01:18.624358Z",
     "start_time": "2022-05-26T16:01:18.570266Z"
    }
   },
   "outputs": [
    {
     "data": {
      "text/html": [
       "<hr>"
      ],
      "text/plain": [
       "<IPython.core.display.HTML object>"
      ]
     },
     "metadata": {},
     "output_type": "display_data"
    },
    {
     "data": {
      "text/html": [
       "<h1>ID: 628680982 - 611800981</h1>"
      ],
      "text/plain": [
       "<IPython.core.display.HTML object>"
      ]
     },
     "metadata": {},
     "output_type": "display_data"
    },
    {
     "name": "stdout",
     "output_type": "stream",
     "text": [
      "   - Missing Variables: 611800981 Who is the candidate?\n",
      "   - Missing Variables: 628680982 Who is the candidate?\n"
     ]
    },
    {
     "data": {
      "text/html": [
       "<h2>COMPARE</h2>"
      ],
      "text/plain": [
       "<IPython.core.display.HTML object>"
      ]
     },
     "metadata": {},
     "output_type": "display_data"
    },
    {
     "data": {
      "text/html": [
       "<div>\n",
       "<style scoped>\n",
       "    .dataframe tbody tr th:only-of-type {\n",
       "        vertical-align: middle;\n",
       "    }\n",
       "\n",
       "    .dataframe tbody tr th {\n",
       "        vertical-align: top;\n",
       "    }\n",
       "\n",
       "    .dataframe thead th {\n",
       "        text-align: right;\n",
       "    }\n",
       "</style>\n",
       "<table border=\"1\" class=\"dataframe\">\n",
       "  <thead>\n",
       "    <tr style=\"text-align: right;\">\n",
       "      <th></th>\n",
       "      <th>raw_id</th>\n",
       "      <th>variable_name</th>\n",
       "      <th>raw_text</th>\n",
       "      <th>raw_group</th>\n",
       "      <th>prod_id</th>\n",
       "      <th>prod_text</th>\n",
       "      <th>prod_group</th>\n",
       "    </tr>\n",
       "  </thead>\n",
       "  <tbody>\n",
       "    <tr>\n",
       "      <th>0</th>\n",
       "      <td>633520983</td>\n",
       "      <td>respondent_name</td>\n",
       "      <td>Name of Respondent</td>\n",
       "      <td>User Info</td>\n",
       "      <td>621350983</td>\n",
       "      <td>Name of Respondent</td>\n",
       "      <td>User Info</td>\n",
       "    </tr>\n",
       "    <tr>\n",
       "      <th>1</th>\n",
       "      <td>652940917</td>\n",
       "      <td>respondent_address</td>\n",
       "      <td>Address</td>\n",
       "      <td>User Info</td>\n",
       "      <td>621350984</td>\n",
       "      <td>Address</td>\n",
       "      <td>User Info</td>\n",
       "    </tr>\n",
       "    <tr>\n",
       "      <th>2</th>\n",
       "      <td>631990986</td>\n",
       "      <td>respondent_geolocation</td>\n",
       "      <td>Geolocation</td>\n",
       "      <td>User Info</td>\n",
       "      <td>621350980</td>\n",
       "      <td>Geolocation</td>\n",
       "      <td>User Info</td>\n",
       "    </tr>\n",
       "    <tr>\n",
       "      <th>3</th>\n",
       "      <td>651040922</td>\n",
       "      <td>respondent_age</td>\n",
       "      <td>Age</td>\n",
       "      <td>User Info</td>\n",
       "      <td>621350982</td>\n",
       "      <td>Age</td>\n",
       "      <td>User Info</td>\n",
       "    </tr>\n",
       "    <tr>\n",
       "      <th>4</th>\n",
       "      <td>610790918</td>\n",
       "      <td>respondent_gender</td>\n",
       "      <td>Gender</td>\n",
       "      <td>User Info</td>\n",
       "      <td>621350981</td>\n",
       "      <td>Gender</td>\n",
       "      <td>User Info</td>\n",
       "    </tr>\n",
       "    <tr>\n",
       "      <th>5</th>\n",
       "      <td>644140977</td>\n",
       "      <td>number_of_presidential_candidate</td>\n",
       "      <td>How many presidential candidates are there for...</td>\n",
       "      <td>Basic Knowledge</td>\n",
       "      <td>633520986</td>\n",
       "      <td>How many presidential candidates are there for...</td>\n",
       "      <td>Basic Knowledge</td>\n",
       "    </tr>\n",
       "    <tr>\n",
       "      <th>6</th>\n",
       "      <td>630170921</td>\n",
       "      <td>existence_female_president</td>\n",
       "      <td>Do you know about the existence of female pres...</td>\n",
       "      <td>Basic Knowledge</td>\n",
       "      <td>633520987</td>\n",
       "      <td>Do you know about the existence of female pres...</td>\n",
       "      <td>Basic Knowledge</td>\n",
       "    </tr>\n",
       "    <tr>\n",
       "      <th>7</th>\n",
       "      <td>626240994</td>\n",
       "      <td>None</td>\n",
       "      <td>Who is the candidate?</td>\n",
       "      <td>Basic Knowledge</td>\n",
       "      <td>633520985</td>\n",
       "      <td>Who is the candidate?</td>\n",
       "      <td>Basic Knowledge</td>\n",
       "    </tr>\n",
       "    <tr>\n",
       "      <th>8</th>\n",
       "      <td>618600914</td>\n",
       "      <td>previous_election_selected_party</td>\n",
       "      <td>Which party did you choose before?</td>\n",
       "      <td>Election</td>\n",
       "      <td>626260925</td>\n",
       "      <td>Which party did you choose before?</td>\n",
       "      <td>Election</td>\n",
       "    </tr>\n",
       "    <tr>\n",
       "      <th>9</th>\n",
       "      <td>651020979</td>\n",
       "      <td>new_candidate</td>\n",
       "      <td>Will you choose a new candidate this year?</td>\n",
       "      <td>Election</td>\n",
       "      <td>626260927</td>\n",
       "      <td>Will you choose a new candidate this year?</td>\n",
       "      <td>Election</td>\n",
       "    </tr>\n",
       "    <tr>\n",
       "      <th>10</th>\n",
       "      <td>628710916</td>\n",
       "      <td>opinion_about_candidate</td>\n",
       "      <td>What is your opinion about the new candidate?</td>\n",
       "      <td>Election</td>\n",
       "      <td>626260926</td>\n",
       "      <td>What is your opinion about the new candidate?</td>\n",
       "      <td>Election</td>\n",
       "    </tr>\n",
       "  </tbody>\n",
       "</table>\n",
       "</div>"
      ],
      "text/plain": [
       "       raw_id                     variable_name  \\\n",
       "0   633520983                   respondent_name   \n",
       "1   652940917                respondent_address   \n",
       "2   631990986            respondent_geolocation   \n",
       "3   651040922                    respondent_age   \n",
       "4   610790918                 respondent_gender   \n",
       "5   644140977  number_of_presidential_candidate   \n",
       "6   630170921        existence_female_president   \n",
       "7   626240994                              None   \n",
       "8   618600914  previous_election_selected_party   \n",
       "9   651020979                     new_candidate   \n",
       "10  628710916           opinion_about_candidate   \n",
       "\n",
       "                                             raw_text        raw_group  \\\n",
       "0                                  Name of Respondent        User Info   \n",
       "1                                             Address        User Info   \n",
       "2                                         Geolocation        User Info   \n",
       "3                                                 Age        User Info   \n",
       "4                                              Gender        User Info   \n",
       "5   How many presidential candidates are there for...  Basic Knowledge   \n",
       "6   Do you know about the existence of female pres...  Basic Knowledge   \n",
       "7                               Who is the candidate?  Basic Knowledge   \n",
       "8                  Which party did you choose before?         Election   \n",
       "9          Will you choose a new candidate this year?         Election   \n",
       "10      What is your opinion about the new candidate?         Election   \n",
       "\n",
       "      prod_id                                          prod_text  \\\n",
       "0   621350983                                 Name of Respondent   \n",
       "1   621350984                                            Address   \n",
       "2   621350980                                        Geolocation   \n",
       "3   621350982                                                Age   \n",
       "4   621350981                                             Gender   \n",
       "5   633520986  How many presidential candidates are there for...   \n",
       "6   633520987  Do you know about the existence of female pres...   \n",
       "7   633520985                              Who is the candidate?   \n",
       "8   626260925                 Which party did you choose before?   \n",
       "9   626260927         Will you choose a new candidate this year?   \n",
       "10  626260926      What is your opinion about the new candidate?   \n",
       "\n",
       "         prod_group  \n",
       "0         User Info  \n",
       "1         User Info  \n",
       "2         User Info  \n",
       "3         User Info  \n",
       "4         User Info  \n",
       "5   Basic Knowledge  \n",
       "6   Basic Knowledge  \n",
       "7   Basic Knowledge  \n",
       "8          Election  \n",
       "9          Election  \n",
       "10         Election  "
      ]
     },
     "metadata": {},
     "output_type": "display_data"
    },
    {
     "data": {
      "text/html": [
       "<h2>RESULT</h2>"
      ],
      "text/plain": [
       "<IPython.core.display.HTML object>"
      ]
     },
     "metadata": {},
     "output_type": "display_data"
    },
    {
     "data": {
      "text/html": [
       "<div>\n",
       "<style scoped>\n",
       "    .dataframe tbody tr th:only-of-type {\n",
       "        vertical-align: middle;\n",
       "    }\n",
       "\n",
       "    .dataframe tbody tr th {\n",
       "        vertical-align: top;\n",
       "    }\n",
       "\n",
       "    .dataframe thead th {\n",
       "        text-align: right;\n",
       "    }\n",
       "</style>\n",
       "<table border=\"1\" class=\"dataframe\">\n",
       "  <thead>\n",
       "    <tr style=\"text-align: right;\">\n",
       "      <th></th>\n",
       "      <th>variable_name</th>\n",
       "      <th>raw_id</th>\n",
       "      <th>prod_id</th>\n",
       "    </tr>\n",
       "  </thead>\n",
       "  <tbody>\n",
       "    <tr>\n",
       "      <th>0</th>\n",
       "      <td>respondent_name</td>\n",
       "      <td>633520983</td>\n",
       "      <td>621350983</td>\n",
       "    </tr>\n",
       "    <tr>\n",
       "      <th>1</th>\n",
       "      <td>respondent_address</td>\n",
       "      <td>652940917</td>\n",
       "      <td>621350984</td>\n",
       "    </tr>\n",
       "    <tr>\n",
       "      <th>2</th>\n",
       "      <td>respondent_geolocation</td>\n",
       "      <td>631990986</td>\n",
       "      <td>621350980</td>\n",
       "    </tr>\n",
       "    <tr>\n",
       "      <th>3</th>\n",
       "      <td>respondent_age</td>\n",
       "      <td>651040922</td>\n",
       "      <td>621350982</td>\n",
       "    </tr>\n",
       "    <tr>\n",
       "      <th>4</th>\n",
       "      <td>respondent_gender</td>\n",
       "      <td>610790918</td>\n",
       "      <td>621350981</td>\n",
       "    </tr>\n",
       "    <tr>\n",
       "      <th>5</th>\n",
       "      <td>number_of_presidential_candidate</td>\n",
       "      <td>644140977</td>\n",
       "      <td>633520986</td>\n",
       "    </tr>\n",
       "    <tr>\n",
       "      <th>6</th>\n",
       "      <td>existence_female_president</td>\n",
       "      <td>630170921</td>\n",
       "      <td>633520987</td>\n",
       "    </tr>\n",
       "    <tr>\n",
       "      <th>7</th>\n",
       "      <td>previous_election_selected_party</td>\n",
       "      <td>618600914</td>\n",
       "      <td>626260925</td>\n",
       "    </tr>\n",
       "    <tr>\n",
       "      <th>8</th>\n",
       "      <td>new_candidate</td>\n",
       "      <td>651020979</td>\n",
       "      <td>626260927</td>\n",
       "    </tr>\n",
       "    <tr>\n",
       "      <th>9</th>\n",
       "      <td>opinion_about_candidate</td>\n",
       "      <td>628710916</td>\n",
       "      <td>626260926</td>\n",
       "    </tr>\n",
       "  </tbody>\n",
       "</table>\n",
       "</div>"
      ],
      "text/plain": [
       "                      variable_name     raw_id    prod_id\n",
       "0                   respondent_name  633520983  621350983\n",
       "1                respondent_address  652940917  621350984\n",
       "2            respondent_geolocation  631990986  621350980\n",
       "3                    respondent_age  651040922  621350982\n",
       "4                 respondent_gender  610790918  621350981\n",
       "5  number_of_presidential_candidate  644140977  633520986\n",
       "6        existence_female_president  630170921  633520987\n",
       "7  previous_election_selected_party  618600914  626260925\n",
       "8                     new_candidate  651020979  626260927\n",
       "9           opinion_about_candidate  628710916  626260926"
      ]
     },
     "metadata": {},
     "output_type": "display_data"
    }
   ],
   "source": [
    "for form in forms:\n",
    "    display(HTML(\"<hr>\"))\n",
    "    prod_id = form[\"prod_id\"]\n",
    "    raw_id = form[\"raw_id\"]\n",
    "    display(HTML(f\"<h1>ID: {prod_id} - {raw_id}</h1>\"))\n",
    "    raw = get_frame(raw_id, \"raw\" )\n",
    "    prod = get_frame(prod_id, \"prod\")\n",
    "    merged = raw.merge(prod, on='variable_name')\n",
    "    display(HTML(\"<h2>COMPARE</h2>\"))\n",
    "    display(merged)\n",
    "    merged = merged.dropna().reset_index()\n",
    "    result = merged[[\"variable_name\",\"raw_id\",\"prod_id\"]]\n",
    "    display(HTML(\"<h2>RESULT</h2>\"))\n",
    "    display(result)\n",
    "    result = result.to_json(f\"./mapping/map_{prod_id}.json\")"
   ]
  },
  {
   "cell_type": "code",
   "execution_count": null,
   "metadata": {},
   "outputs": [],
   "source": []
  }
 ],
 "metadata": {
  "kernelspec": {
   "display_name": "Python 3",
   "language": "python",
   "name": "python3"
  },
  "language_info": {
   "codemirror_mode": {
    "name": "ipython",
    "version": 3
   },
   "file_extension": ".py",
   "mimetype": "text/x-python",
   "name": "python",
   "nbconvert_exporter": "python",
   "pygments_lexer": "ipython3",
   "version": "3.8.5"
  },
  "toc": {
   "base_numbering": 1,
   "nav_menu": {},
   "number_sections": true,
   "sideBar": true,
   "skip_h1_title": false,
   "title_cell": "Table of Contents",
   "title_sidebar": "Contents",
   "toc_cell": false,
   "toc_position": {},
   "toc_section_display": true,
   "toc_window_display": false
  }
 },
 "nbformat": 4,
 "nbformat_minor": 4
}
